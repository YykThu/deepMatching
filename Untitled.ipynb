{
 "cells": [
  {
   "cell_type": "code",
   "execution_count": 1,
   "metadata": {
    "collapsed": true
   },
   "outputs": [],
   "source": [
    "from utils import *"
   ]
  },
  {
   "cell_type": "code",
   "execution_count": 2,
   "metadata": {
    "collapsed": true
   },
   "outputs": [],
   "source": [
    "f = open('../data/data.pkl')\n",
    "data = pickle.load(f)\n",
    "f.close()\n",
    "\n",
    "[train_q1_words,\n",
    "train_q2_words,\n",
    "test_q1_words,\n",
    "test_q2_words,\n",
    "word2id,\n",
    "id2word,\n",
    "words] = data"
   ]
  },
  {
   "cell_type": "code",
   "execution_count": 14,
   "metadata": {},
   "outputs": [],
   "source": [
    "def to_id(word):\n",
    "    if word in word2id.keys():\n",
    "        return word2id[word]\n",
    "    else:\n",
    "        return word2id['UNW']\n",
    "    \n",
    "def conv2IdList(word_lists, word2id):\n",
    "    id_lists = []\n",
    "    for word_list in word_lists:\n",
    "        id_lists.append(map(to_id, word_list))\n",
    "    return id_lists"
   ]
  },
  {
   "cell_type": "code",
   "execution_count": null,
   "metadata": {},
   "outputs": [],
   "source": [
    "train_q1_ids = conv2IdList(train_q1_words, word2id)\n",
    "train_q2_ids = conv2IdList(train_q2_words, word2id)\n",
    "test_q1_ids = conv2IdList(test_q1_words, word2id)\n",
    "test_q2_ids = conv2IdList(test_q2_words, word2id)"
   ]
  },
  {
   "cell_type": "code",
   "execution_count": null,
   "metadata": {
    "collapsed": true
   },
   "outputs": [],
   "source": []
  },
  {
   "cell_type": "code",
   "execution_count": null,
   "metadata": {
    "collapsed": true
   },
   "outputs": [],
   "source": []
  }
 ],
 "metadata": {
  "kernelspec": {
   "display_name": "Python 2",
   "language": "python",
   "name": "python2"
  },
  "language_info": {
   "codemirror_mode": {
    "name": "ipython",
    "version": 2
   },
   "file_extension": ".py",
   "mimetype": "text/x-python",
   "name": "python",
   "nbconvert_exporter": "python",
   "pygments_lexer": "ipython2",
   "version": "2.7.12"
  }
 },
 "nbformat": 4,
 "nbformat_minor": 2
}

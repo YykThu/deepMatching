{
 "cells": [
  {
   "cell_type": "code",
   "execution_count": 2,
   "metadata": {},
   "outputs": [
    {
     "name": "stdout",
     "output_type": "stream",
     "text": [
      "Loading Raw Data...\n",
      "train data shape: (404290, 6)\n",
      "test data shape: (2345796, 3)\n",
      "Filling Null with \"empty\"...\n"
     ]
    },
    {
     "name": "stderr",
     "output_type": "stream",
     "text": [
      "Converting train q1s to list:   0%|          | 1507/404290 [00:00<00:26, 15060.82it/s]"
     ]
    },
    {
     "name": "stdout",
     "output_type": "stream",
     "text": [
      "Converting Strings to Word List...\n"
     ]
    },
    {
     "name": "stderr",
     "output_type": "stream",
     "text": [
      "Converting train q1s to list: 100%|██████████| 404290/404290 [00:27<00:00, 14868.18it/s]\n",
      "Converting train q2s to list: 100%|██████████| 404290/404290 [00:26<00:00, 15054.37it/s]\n",
      "Converting test q1s to list: 100%|██████████| 2345796/2345796 [02:43<00:00, 14312.83it/s]\n",
      "Converting test q2s to list: 100%|██████████| 2345796/2345796 [02:43<00:00, 14381.87it/s]\n"
     ]
    }
   ],
   "source": [
    "from utils import *\n",
    "\n",
    "\n",
    "print 'Loading Raw Data...'\n",
    "train_data = pd.read_csv('../data/train.csv')\n",
    "test_data = pd.read_csv('../data/test.csv')\n",
    "print 'train data shape: {}'.format(train_data.shape)\n",
    "print 'test data shape: {}'.format(test_data.shape)\n",
    "\n",
    "print 'Filling Null with \"empty\"...'\n",
    "train_data = train_data.fillna('empty')\n",
    "test_data = test_data.fillna('empty')\n",
    "\n",
    "print 'Converting Strings to Word List...'\n",
    "train_q1_word_list = process_questions(train_data.question1, prex='train q1s')\n",
    "train_q2_word_list = process_questions(train_data.question2, prex='train q2s')\n",
    "test_q1_word_list = process_questions(test_data.question1, prex='test q1s')\n",
    "test_q2_word_list = process_questions(test_data.question2, prex='test q2s')"
   ]
  },
  {
   "cell_type": "code",
   "execution_count": 7,
   "metadata": {
    "collapsed": true
   },
   "outputs": [],
   "source": [
    "train_q1_words = map(nltk.word_tokenize, train_q1_word_list)\n",
    "train_q2_words = map(nltk.word_tokenize, train_q2_word_list)\n",
    "test_q1_words = map(nltk.word_tokenize, test_q1_word_list)\n",
    "test_q2_words = map(nltk.word_tokenize, test_q2_word_list)"
   ]
  },
  {
   "cell_type": "code",
   "execution_count": 9,
   "metadata": {
    "collapsed": true
   },
   "outputs": [],
   "source": [
    "words_list = train_q1_words + train_q2_words + test_q1_words + test_q2_words"
   ]
  },
  {
   "cell_type": "code",
   "execution_count": 10,
   "metadata": {
    "collapsed": true
   },
   "outputs": [],
   "source": [
    "words_ = []\n",
    "for list_ in words_list:\n",
    "    for word in list_:\n",
    "        words_.append(word)"
   ]
  },
  {
   "cell_type": "code",
   "execution_count": 11,
   "metadata": {
    "collapsed": true
   },
   "outputs": [],
   "source": [
    "words_freq = nltk.FreqDist(words_)"
   ]
  },
  {
   "cell_type": "code",
   "execution_count": 12,
   "metadata": {},
   "outputs": [
    {
     "name": "stdout",
     "output_type": "stream",
     "text": [
      "* remain frequence: 50, words num: 28802\n"
     ]
    }
   ],
   "source": [
    "words = []\n",
    "for word in words_freq:\n",
    "    if words_freq[word] > config['remain_freq']:\n",
    "        words.append(word)\n",
    "print '* remain frequence: {}, words num: {}'.format(config['remain_freq'], len(words))\n"
   ]
  },
  {
   "cell_type": "code",
   "execution_count": 13,
   "metadata": {
    "collapsed": true
   },
   "outputs": [],
   "source": [
    "word2id = OrderedDict()\n",
    "id2word = OrderedDict()\n",
    "\n",
    "for id_, word in enumerate(words):\n",
    "    word2id[word] = id_\n",
    "    id2word[id_] = word\n",
    "\n",
    "word2id['UNW'] = len(words)\n",
    "id2word[len(words)] = 'UNW'"
   ]
  },
  {
   "cell_type": "code",
   "execution_count": 14,
   "metadata": {
    "collapsed": true
   },
   "outputs": [],
   "source": [
    "data = [train_q1_words,\n",
    "        train_q2_words,\n",
    "        test_q1_words,\n",
    "        test_q2_words,\n",
    "        word2id,\n",
    "        id2word,\n",
    "        words]\n",
    "\n",
    "f = open('../data/data.pkl', 'wb')\n",
    "pickle.dump(data, f, protocol=pickle.HIGHEST_PROTOCOL)\n",
    "f.close()"
   ]
  },
  {
   "cell_type": "code",
   "execution_count": null,
   "metadata": {
    "collapsed": true
   },
   "outputs": [],
   "source": []
  }
 ],
 "metadata": {
  "kernelspec": {
   "display_name": "Python 2",
   "language": "python",
   "name": "python2"
  },
  "language_info": {
   "codemirror_mode": {
    "name": "ipython",
    "version": 2
   },
   "file_extension": ".py",
   "mimetype": "text/x-python",
   "name": "python",
   "nbconvert_exporter": "python",
   "pygments_lexer": "ipython2",
   "version": "2.7.12"
  }
 },
 "nbformat": 4,
 "nbformat_minor": 2
}
